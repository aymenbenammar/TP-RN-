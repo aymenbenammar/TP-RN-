{
  "nbformat": 4,
  "nbformat_minor": 0,
  "metadata": {
    "colab": {
      "provenance": [],
      "authorship_tag": "ABX9TyN4vK4bBx0dUQFBLLsU2XB5",
      "include_colab_link": true
    },
    "kernelspec": {
      "name": "python3",
      "display_name": "Python 3"
    },
    "language_info": {
      "name": "python"
    }
  },
  "cells": [
    {
      "cell_type": "markdown",
      "metadata": {
        "id": "view-in-github",
        "colab_type": "text"
      },
      "source": [
        "<a href=\"https://colab.research.google.com/github/aymenbenammar/TP-RN-/blob/main/tpRN_AymenBenAmmar.ipynb\" target=\"_parent\"><img src=\"https://colab.research.google.com/assets/colab-badge.svg\" alt=\"Open In Colab\"/></a>"
      ]
    },
    {
      "cell_type": "code",
      "execution_count": 1,
      "metadata": {
        "id": "xd0CN_7zvGvz"
      },
      "outputs": [],
      "source": [
        "#1- Créer Un DataFrame en utilisant les données de fichier ‘’Iris.csv” qui contient notre dataSet.\n",
        "import pandas as pd\n",
        "url='https://drive.google.com/file/d/1lCrldn-uT1K6ctUC2xt7-hMjbMZ9Ft9r/view?usp=sharing'\n",
        "url='https://drive.google.com/uc?id=' + url.split('/')[-2]\n",
        "df = pd.read_csv(url)"
      ]
    },
    {
      "cell_type": "code",
      "source": [
        "#2-Afficher les 10 premières lignes du DataFrame.\n",
        "df.head(10)"
      ],
      "metadata": {
        "colab": {
          "base_uri": "https://localhost:8080/",
          "height": 363
        },
        "id": "R5DbjmG5vaWb",
        "outputId": "e1865413-73d7-405c-ccfb-184d813fd128"
      },
      "execution_count": 2,
      "outputs": [
        {
          "output_type": "execute_result",
          "data": {
            "text/plain": [
              "   Id  SepalLengthCm  SepalWidthCm  PetalLengthCm  PetalWidthCm      Species\n",
              "0   1            5.1           3.5            1.4           0.2  Iris-setosa\n",
              "1   2            4.9           3.0            1.4           0.2  Iris-setosa\n",
              "2   3            4.7           3.2            1.3           0.2  Iris-setosa\n",
              "3   4            4.6           3.1            1.5           0.2  Iris-setosa\n",
              "4   5            5.0           3.6            1.4           0.2  Iris-setosa\n",
              "5   6            5.4           3.9            1.7           0.4  Iris-setosa\n",
              "6   7            4.6           3.4            1.4           0.3  Iris-setosa\n",
              "7   8            5.0           3.4            1.5           0.2  Iris-setosa\n",
              "8   9            4.4           2.9            1.4           0.2  Iris-setosa\n",
              "9  10            4.9           3.1            1.5           0.1  Iris-setosa"
            ],
            "text/html": [
              "\n",
              "  <div id=\"df-b488b4df-b0dc-41e1-8078-31d1ff25c624\">\n",
              "    <div class=\"colab-df-container\">\n",
              "      <div>\n",
              "<style scoped>\n",
              "    .dataframe tbody tr th:only-of-type {\n",
              "        vertical-align: middle;\n",
              "    }\n",
              "\n",
              "    .dataframe tbody tr th {\n",
              "        vertical-align: top;\n",
              "    }\n",
              "\n",
              "    .dataframe thead th {\n",
              "        text-align: right;\n",
              "    }\n",
              "</style>\n",
              "<table border=\"1\" class=\"dataframe\">\n",
              "  <thead>\n",
              "    <tr style=\"text-align: right;\">\n",
              "      <th></th>\n",
              "      <th>Id</th>\n",
              "      <th>SepalLengthCm</th>\n",
              "      <th>SepalWidthCm</th>\n",
              "      <th>PetalLengthCm</th>\n",
              "      <th>PetalWidthCm</th>\n",
              "      <th>Species</th>\n",
              "    </tr>\n",
              "  </thead>\n",
              "  <tbody>\n",
              "    <tr>\n",
              "      <th>0</th>\n",
              "      <td>1</td>\n",
              "      <td>5.1</td>\n",
              "      <td>3.5</td>\n",
              "      <td>1.4</td>\n",
              "      <td>0.2</td>\n",
              "      <td>Iris-setosa</td>\n",
              "    </tr>\n",
              "    <tr>\n",
              "      <th>1</th>\n",
              "      <td>2</td>\n",
              "      <td>4.9</td>\n",
              "      <td>3.0</td>\n",
              "      <td>1.4</td>\n",
              "      <td>0.2</td>\n",
              "      <td>Iris-setosa</td>\n",
              "    </tr>\n",
              "    <tr>\n",
              "      <th>2</th>\n",
              "      <td>3</td>\n",
              "      <td>4.7</td>\n",
              "      <td>3.2</td>\n",
              "      <td>1.3</td>\n",
              "      <td>0.2</td>\n",
              "      <td>Iris-setosa</td>\n",
              "    </tr>\n",
              "    <tr>\n",
              "      <th>3</th>\n",
              "      <td>4</td>\n",
              "      <td>4.6</td>\n",
              "      <td>3.1</td>\n",
              "      <td>1.5</td>\n",
              "      <td>0.2</td>\n",
              "      <td>Iris-setosa</td>\n",
              "    </tr>\n",
              "    <tr>\n",
              "      <th>4</th>\n",
              "      <td>5</td>\n",
              "      <td>5.0</td>\n",
              "      <td>3.6</td>\n",
              "      <td>1.4</td>\n",
              "      <td>0.2</td>\n",
              "      <td>Iris-setosa</td>\n",
              "    </tr>\n",
              "    <tr>\n",
              "      <th>5</th>\n",
              "      <td>6</td>\n",
              "      <td>5.4</td>\n",
              "      <td>3.9</td>\n",
              "      <td>1.7</td>\n",
              "      <td>0.4</td>\n",
              "      <td>Iris-setosa</td>\n",
              "    </tr>\n",
              "    <tr>\n",
              "      <th>6</th>\n",
              "      <td>7</td>\n",
              "      <td>4.6</td>\n",
              "      <td>3.4</td>\n",
              "      <td>1.4</td>\n",
              "      <td>0.3</td>\n",
              "      <td>Iris-setosa</td>\n",
              "    </tr>\n",
              "    <tr>\n",
              "      <th>7</th>\n",
              "      <td>8</td>\n",
              "      <td>5.0</td>\n",
              "      <td>3.4</td>\n",
              "      <td>1.5</td>\n",
              "      <td>0.2</td>\n",
              "      <td>Iris-setosa</td>\n",
              "    </tr>\n",
              "    <tr>\n",
              "      <th>8</th>\n",
              "      <td>9</td>\n",
              "      <td>4.4</td>\n",
              "      <td>2.9</td>\n",
              "      <td>1.4</td>\n",
              "      <td>0.2</td>\n",
              "      <td>Iris-setosa</td>\n",
              "    </tr>\n",
              "    <tr>\n",
              "      <th>9</th>\n",
              "      <td>10</td>\n",
              "      <td>4.9</td>\n",
              "      <td>3.1</td>\n",
              "      <td>1.5</td>\n",
              "      <td>0.1</td>\n",
              "      <td>Iris-setosa</td>\n",
              "    </tr>\n",
              "  </tbody>\n",
              "</table>\n",
              "</div>\n",
              "      <button class=\"colab-df-convert\" onclick=\"convertToInteractive('df-b488b4df-b0dc-41e1-8078-31d1ff25c624')\"\n",
              "              title=\"Convert this dataframe to an interactive table.\"\n",
              "              style=\"display:none;\">\n",
              "        \n",
              "  <svg xmlns=\"http://www.w3.org/2000/svg\" height=\"24px\"viewBox=\"0 0 24 24\"\n",
              "       width=\"24px\">\n",
              "    <path d=\"M0 0h24v24H0V0z\" fill=\"none\"/>\n",
              "    <path d=\"M18.56 5.44l.94 2.06.94-2.06 2.06-.94-2.06-.94-.94-2.06-.94 2.06-2.06.94zm-11 1L8.5 8.5l.94-2.06 2.06-.94-2.06-.94L8.5 2.5l-.94 2.06-2.06.94zm10 10l.94 2.06.94-2.06 2.06-.94-2.06-.94-.94-2.06-.94 2.06-2.06.94z\"/><path d=\"M17.41 7.96l-1.37-1.37c-.4-.4-.92-.59-1.43-.59-.52 0-1.04.2-1.43.59L10.3 9.45l-7.72 7.72c-.78.78-.78 2.05 0 2.83L4 21.41c.39.39.9.59 1.41.59.51 0 1.02-.2 1.41-.59l7.78-7.78 2.81-2.81c.8-.78.8-2.07 0-2.86zM5.41 20L4 18.59l7.72-7.72 1.47 1.35L5.41 20z\"/>\n",
              "  </svg>\n",
              "      </button>\n",
              "      \n",
              "  <style>\n",
              "    .colab-df-container {\n",
              "      display:flex;\n",
              "      flex-wrap:wrap;\n",
              "      gap: 12px;\n",
              "    }\n",
              "\n",
              "    .colab-df-convert {\n",
              "      background-color: #E8F0FE;\n",
              "      border: none;\n",
              "      border-radius: 50%;\n",
              "      cursor: pointer;\n",
              "      display: none;\n",
              "      fill: #1967D2;\n",
              "      height: 32px;\n",
              "      padding: 0 0 0 0;\n",
              "      width: 32px;\n",
              "    }\n",
              "\n",
              "    .colab-df-convert:hover {\n",
              "      background-color: #E2EBFA;\n",
              "      box-shadow: 0px 1px 2px rgba(60, 64, 67, 0.3), 0px 1px 3px 1px rgba(60, 64, 67, 0.15);\n",
              "      fill: #174EA6;\n",
              "    }\n",
              "\n",
              "    [theme=dark] .colab-df-convert {\n",
              "      background-color: #3B4455;\n",
              "      fill: #D2E3FC;\n",
              "    }\n",
              "\n",
              "    [theme=dark] .colab-df-convert:hover {\n",
              "      background-color: #434B5C;\n",
              "      box-shadow: 0px 1px 3px 1px rgba(0, 0, 0, 0.15);\n",
              "      filter: drop-shadow(0px 1px 2px rgba(0, 0, 0, 0.3));\n",
              "      fill: #FFFFFF;\n",
              "    }\n",
              "  </style>\n",
              "\n",
              "      <script>\n",
              "        const buttonEl =\n",
              "          document.querySelector('#df-b488b4df-b0dc-41e1-8078-31d1ff25c624 button.colab-df-convert');\n",
              "        buttonEl.style.display =\n",
              "          google.colab.kernel.accessAllowed ? 'block' : 'none';\n",
              "\n",
              "        async function convertToInteractive(key) {\n",
              "          const element = document.querySelector('#df-b488b4df-b0dc-41e1-8078-31d1ff25c624');\n",
              "          const dataTable =\n",
              "            await google.colab.kernel.invokeFunction('convertToInteractive',\n",
              "                                                     [key], {});\n",
              "          if (!dataTable) return;\n",
              "\n",
              "          const docLinkHtml = 'Like what you see? Visit the ' +\n",
              "            '<a target=\"_blank\" href=https://colab.research.google.com/notebooks/data_table.ipynb>data table notebook</a>'\n",
              "            + ' to learn more about interactive tables.';\n",
              "          element.innerHTML = '';\n",
              "          dataTable['output_type'] = 'display_data';\n",
              "          await google.colab.output.renderOutput(dataTable, element);\n",
              "          const docLink = document.createElement('div');\n",
              "          docLink.innerHTML = docLinkHtml;\n",
              "          element.appendChild(docLink);\n",
              "        }\n",
              "      </script>\n",
              "    </div>\n",
              "  </div>\n",
              "  "
            ]
          },
          "metadata": {},
          "execution_count": 2
        }
      ]
    },
    {
      "cell_type": "code",
      "source": [
        "#3-Afficher les dimensions du dataframe.\n",
        "df.shape"
      ],
      "metadata": {
        "colab": {
          "base_uri": "https://localhost:8080/"
        },
        "id": "p41sQ-zlvkNX",
        "outputId": "3fdb21f2-87d0-4b02-a6a8-e785e13c90aa"
      },
      "execution_count": 4,
      "outputs": [
        {
          "output_type": "execute_result",
          "data": {
            "text/plain": [
              "(150, 6)"
            ]
          },
          "metadata": {},
          "execution_count": 4
        }
      ]
    },
    {
      "cell_type": "code",
      "source": [
        "#4-Utiliser la bibliothèque python Seaborn pour visualiser les données en fonction de la longueur des pétales et de largeur des sépales.\n",
        "# Import seaborn\n",
        "import seaborn as sns\n",
        "sns.set_theme()\n",
        "sns.pairplot(\n",
        "    data=df, vars=(\"SepalLengthCm\",\"SepalWidthCm\") , hue=\"Species\"\n",
        ")"
      ],
      "metadata": {
        "colab": {
          "base_uri": "https://localhost:8080/",
          "height": 389
        },
        "id": "BtwKZLkcvnNE",
        "outputId": "306a08af-86f6-4b0d-8b09-99771e7c2692"
      },
      "execution_count": 5,
      "outputs": [
        {
          "output_type": "execute_result",
          "data": {
            "text/plain": [
              "<seaborn.axisgrid.PairGrid at 0x7f4945caa9d0>"
            ]
          },
          "metadata": {},
          "execution_count": 5
        },
        {
          "output_type": "display_data",
          "data": {
            "text/plain": [
              "<Figure size 474.35x360 with 6 Axes>"
            ],
            "image/png": "[encoded data removed]"
          },
          "metadata": {}
        }
      ]
    },
    {
      "cell_type": "code",
      "source": [
        "#5-Ecrire un script python permettant de labelliser les différentes espèces d’iris.\n",
        "for i in range(len(df.axes[0])):\n",
        "  for j in range(len(df.axes[1])):\n",
        "    if df.iloc[i,j]==\"Iris-setosa\":\n",
        "      df.iloc[i,j]=0\n",
        "    elif df.iloc[i,j]==\"Iris-virginica\":\n",
        "      df.iloc[i,j]=1\n",
        "    elif df.iloc[i,j]==\"Iris-versicolor\":\n",
        "      df.iloc[i,j]=2"
      ],
      "metadata": {
        "id": "ZaC2XfGnvxv9"
      },
      "execution_count": 11,
      "outputs": []
    },
    {
      "cell_type": "code",
      "source": [
        "#6-Afficher du nouveau les 10 premières lignes du nouveau DataFrame contenant les labels.\n",
        "df.head(10)"
      ],
      "metadata": {
        "colab": {
          "base_uri": "https://localhost:8080/",
          "height": 363
        },
        "id": "ApAIITkhv0cE",
        "outputId": "0b49fe75-2c08-46c5-94b2-8d988f8e38f2"
      },
      "execution_count": 12,
      "outputs": [
        {
          "output_type": "execute_result",
          "data": {
            "text/plain": [
              "   Id  SepalLengthCm  SepalWidthCm  PetalLengthCm  PetalWidthCm Species\n",
              "0   1            5.1           3.5            1.4           0.2       0\n",
              "1   2            4.9           3.0            1.4           0.2       0\n",
              "2   3            4.7           3.2            1.3           0.2       0\n",
              "3   4            4.6           3.1            1.5           0.2       0\n",
              "4   5            5.0           3.6            1.4           0.2       0\n",
              "5   6            5.4           3.9            1.7           0.4       0\n",
              "6   7            4.6           3.4            1.4           0.3       0\n",
              "7   8            5.0           3.4            1.5           0.2       0\n",
              "8   9            4.4           2.9            1.4           0.2       0\n",
              "9  10            4.9           3.1            1.5           0.1       0"
            ],
            "text/html": [
              "\n",
              "  <div id=\"df-81b9ce10-7d7f-4745-96a0-d15a999d7072\">\n",
              "    <div class=\"colab-df-container\">\n",
              "      <div>\n",
              "<style scoped>\n",
              "    .dataframe tbody tr th:only-of-type {\n",
              "        vertical-align: middle;\n",
              "    }\n",
              "\n",
              "    .dataframe tbody tr th {\n",
              "        vertical-align: top;\n",
              "    }\n",
              "\n",
              "    .dataframe thead th {\n",
              "        text-align: right;\n",
              "    }\n",
              "</style>\n",
              "<table border=\"1\" class=\"dataframe\">\n",
              "  <thead>\n",
              "    <tr style=\"text-align: right;\">\n",
              "      <th></th>\n",
              "      <th>Id</th>\n",
              "      <th>SepalLengthCm</th>\n",
              "      <th>SepalWidthCm</th>\n",
              "      <th>PetalLengthCm</th>\n",
              "      <th>PetalWidthCm</th>\n",
              "      <th>Species</th>\n",
              "    </tr>\n",
              "  </thead>\n",
              "  <tbody>\n",
              "    <tr>\n",
              "      <th>0</th>\n",
              "      <td>1</td>\n",
              "      <td>5.1</td>\n",
              "      <td>3.5</td>\n",
              "      <td>1.4</td>\n",
              "      <td>0.2</td>\n",
              "      <td>0</td>\n",
              "    </tr>\n",
              "    <tr>\n",
              "      <th>1</th>\n",
              "      <td>2</td>\n",
              "      <td>4.9</td>\n",
              "      <td>3.0</td>\n",
              "      <td>1.4</td>\n",
              "      <td>0.2</td>\n",
              "      <td>0</td>\n",
              "    </tr>\n",
              "    <tr>\n",
              "      <th>2</th>\n",
              "      <td>3</td>\n",
              "      <td>4.7</td>\n",
              "      <td>3.2</td>\n",
              "      <td>1.3</td>\n",
              "      <td>0.2</td>\n",
              "      <td>0</td>\n",
              "    </tr>\n",
              "    <tr>\n",
              "      <th>3</th>\n",
              "      <td>4</td>\n",
              "      <td>4.6</td>\n",
              "      <td>3.1</td>\n",
              "      <td>1.5</td>\n",
              "      <td>0.2</td>\n",
              "      <td>0</td>\n",
              "    </tr>\n",
              "    <tr>\n",
              "      <th>4</th>\n",
              "      <td>5</td>\n",
              "      <td>5.0</td>\n",
              "      <td>3.6</td>\n",
              "      <td>1.4</td>\n",
              "      <td>0.2</td>\n",
              "      <td>0</td>\n",
              "    </tr>\n",
              "    <tr>\n",
              "      <th>5</th>\n",
              "      <td>6</td>\n",
              "      <td>5.4</td>\n",
              "      <td>3.9</td>\n",
              "      <td>1.7</td>\n",
              "      <td>0.4</td>\n",
              "      <td>0</td>\n",
              "    </tr>\n",
              "    <tr>\n",
              "      <th>6</th>\n",
              "      <td>7</td>\n",
              "      <td>4.6</td>\n",
              "      <td>3.4</td>\n",
              "      <td>1.4</td>\n",
              "      <td>0.3</td>\n",
              "      <td>0</td>\n",
              "    </tr>\n",
              "    <tr>\n",
              "      <th>7</th>\n",
              "      <td>8</td>\n",
              "      <td>5.0</td>\n",
              "      <td>3.4</td>\n",
              "      <td>1.5</td>\n",
              "      <td>0.2</td>\n",
              "      <td>0</td>\n",
              "    </tr>\n",
              "    <tr>\n",
              "      <th>8</th>\n",
              "      <td>9</td>\n",
              "      <td>4.4</td>\n",
              "      <td>2.9</td>\n",
              "      <td>1.4</td>\n",
              "      <td>0.2</td>\n",
              "      <td>0</td>\n",
              "    </tr>\n",
              "    <tr>\n",
              "      <th>9</th>\n",
              "      <td>10</td>\n",
              "      <td>4.9</td>\n",
              "      <td>3.1</td>\n",
              "      <td>1.5</td>\n",
              "      <td>0.1</td>\n",
              "      <td>0</td>\n",
              "    </tr>\n",
              "  </tbody>\n",
              "</table>\n",
              "</div>\n",
              "      <button class=\"colab-df-convert\" onclick=\"convertToInteractive('df-81b9ce10-7d7f-4745-96a0-d15a999d7072')\"\n",
              "              title=\"Convert this dataframe to an interactive table.\"\n",
              "              style=\"display:none;\">\n",
              "        \n",
              "  <svg xmlns=\"http://www.w3.org/2000/svg\" height=\"24px\"viewBox=\"0 0 24 24\"\n",
              "       width=\"24px\">\n",
              "    <path d=\"M0 0h24v24H0V0z\" fill=\"none\"/>\n",
              "    <path d=\"M18.56 5.44l.94 2.06.94-2.06 2.06-.94-2.06-.94-.94-2.06-.94 2.06-2.06.94zm-11 1L8.5 8.5l.94-2.06 2.06-.94-2.06-.94L8.5 2.5l-.94 2.06-2.06.94zm10 10l.94 2.06.94-2.06 2.06-.94-2.06-.94-.94-2.06-.94 2.06-2.06.94z\"/><path d=\"M17.41 7.96l-1.37-1.37c-.4-.4-.92-.59-1.43-.59-.52 0-1.04.2-1.43.59L10.3 9.45l-7.72 7.72c-.78.78-.78 2.05 0 2.83L4 21.41c.39.39.9.59 1.41.59.51 0 1.02-.2 1.41-.59l7.78-7.78 2.81-2.81c.8-.78.8-2.07 0-2.86zM5.41 20L4 18.59l7.72-7.72 1.47 1.35L5.41 20z\"/>\n",
              "  </svg>\n",
              "      </button>\n",
              "      \n",
              "  <style>\n",
              "    .colab-df-container {\n",
              "      display:flex;\n",
              "      flex-wrap:wrap;\n",
              "      gap: 12px;\n",
              "    }\n",
              "\n",
              "    .colab-df-convert {\n",
              "      background-color: #E8F0FE;\n",
              "      border: none;\n",
              "      border-radius: 50%;\n",
              "      cursor: pointer;\n",
              "      display: none;\n",
              "      fill: #1967D2;\n",
              "      height: 32px;\n",
              "      padding: 0 0 0 0;\n",
              "      width: 32px;\n",
              "    }\n",
              "\n",
              "    .colab-df-convert:hover {\n",
              "      background-color: #E2EBFA;\n",
              "      box-shadow: 0px 1px 2px rgba(60, 64, 67, 0.3), 0px 1px 3px 1px rgba(60, 64, 67, 0.15);\n",
              "      fill: #174EA6;\n",
              "    }\n",
              "\n",
              "    [theme=dark] .colab-df-convert {\n",
              "      background-color: #3B4455;\n",
              "      fill: #D2E3FC;\n",
              "    }\n",
              "\n",
              "    [theme=dark] .colab-df-convert:hover {\n",
              "      background-color: #434B5C;\n",
              "      box-shadow: 0px 1px 3px 1px rgba(0, 0, 0, 0.15);\n",
              "      filter: drop-shadow(0px 1px 2px rgba(0, 0, 0, 0.3));\n",
              "      fill: #FFFFFF;\n",
              "    }\n",
              "  </style>\n",
              "\n",
              "      <script>\n",
              "        const buttonEl =\n",
              "          document.querySelector('#df-81b9ce10-7d7f-4745-96a0-d15a999d7072 button.colab-df-convert');\n",
              "        buttonEl.style.display =\n",
              "          google.colab.kernel.accessAllowed ? 'block' : 'none';\n",
              "\n",
              "        async function convertToInteractive(key) {\n",
              "          const element = document.querySelector('#df-81b9ce10-7d7f-4745-96a0-d15a999d7072');\n",
              "          const dataTable =\n",
              "            await google.colab.kernel.invokeFunction('convertToInteractive',\n",
              "                                                     [key], {});\n",
              "          if (!dataTable) return;\n",
              "\n",
              "          const docLinkHtml = 'Like what you see? Visit the ' +\n",
              "            '<a target=\"_blank\" href=https://colab.research.google.com/notebooks/data_table.ipynb>data table notebook</a>'\n",
              "            + ' to learn more about interactive tables.';\n",
              "          element.innerHTML = '';\n",
              "          dataTable['output_type'] = 'display_data';\n",
              "          await google.colab.output.renderOutput(dataTable, element);\n",
              "          const docLink = document.createElement('div');\n",
              "          docLink.innerHTML = docLinkHtml;\n",
              "          element.appendChild(docLink);\n",
              "        }\n",
              "      </script>\n",
              "    </div>\n",
              "  </div>\n",
              "  "
            ]
          },
          "metadata": {},
          "execution_count": 12
        }
      ]
    },
    {
      "cell_type": "code",
      "source": [
        "#7-Écrire un script python permettant la division de dataset en des données d’apprentissage (70%) et des données de test (30%).\n",
        "from sklearn import model_selection \n",
        "x=df.values[:,0:4]\n",
        "y=df.values[:,5]\n",
        "xtrain,xtest,ytrain,ytest=model_selection.train_test_split(x,y,train_size=0.7)\n"
      ],
      "metadata": {
        "id": "V4bH0iapv0i0"
      },
      "execution_count": 13,
      "outputs": []
    },
    {
      "cell_type": "code",
      "source": [
        "#8-Afficher les 10 premières données d’apprentissage et celles de test.\n",
        "xtrain[0:10]"
      ],
      "metadata": {
        "colab": {
          "base_uri": "https://localhost:8080/"
        },
        "id": "zPBJR-pJv48W",
        "outputId": "fd52bb96-2710-493a-f5d9-cc66122365c6"
      },
      "execution_count": 14,
      "outputs": [
        {
          "output_type": "execute_result",
          "data": {
            "text/plain": [
              "array([[79, 6.0, 2.9, 4.5],\n",
              "       [125, 6.7, 3.3, 5.7],\n",
              "       [96, 5.7, 3.0, 4.2],\n",
              "       [131, 7.4, 2.8, 6.1],\n",
              "       [135, 6.1, 2.6, 5.6],\n",
              "       [139, 6.0, 3.0, 4.8],\n",
              "       [29, 5.2, 3.4, 1.4],\n",
              "       [128, 6.1, 3.0, 4.9],\n",
              "       [88, 6.3, 2.3, 4.4],\n",
              "       [11, 5.4, 3.7, 1.5]], dtype=object)"
            ]
          },
          "metadata": {},
          "execution_count": 14
        }
      ]
    },
    {
      "cell_type": "code",
      "source": [
        "xtest[0:10]"
      ],
      "metadata": {
        "colab": {
          "base_uri": "https://localhost:8080/"
        },
        "id": "UYgDyrrrv7vl",
        "outputId": "3e98bf4e-c95e-48a0-ffe6-1c2a1eb549cd"
      },
      "execution_count": 15,
      "outputs": [
        {
          "output_type": "execute_result",
          "data": {
            "text/plain": [
              "array([[26, 5.0, 3.0, 1.6],\n",
              "       [69, 6.2, 2.2, 4.5],\n",
              "       [4, 4.6, 3.1, 1.5],\n",
              "       [110, 7.2, 3.6, 6.1],\n",
              "       [70, 5.6, 2.5, 3.9],\n",
              "       [124, 6.3, 2.7, 4.9],\n",
              "       [30, 4.7, 3.2, 1.6],\n",
              "       [28, 5.2, 3.5, 1.5],\n",
              "       [56, 5.7, 2.8, 4.5],\n",
              "       [83, 5.8, 2.7, 3.9]], dtype=object)"
            ]
          },
          "metadata": {},
          "execution_count": 15
        }
      ]
    },
    {
      "cell_type": "code",
      "source": [
        "#9-Ecrire un script python qui utilise un perceptron multicouche pour l’apprentissage des données avec un optimisateur\n",
        "%%time\n",
        "from sklearn.neural_network import MLPClassifier \n",
        "rna= MLPClassifier(hidden_layer_sizes=(4,),solver=\"lbfgs\",epsilon=0.07,max_iter=150,alpha=1e-5)\n",
        "ytrain=ytrain.astype('int')\n",
        "xtrain=xtrain.astype('int')"
      ],
      "metadata": {
        "colab": {
          "base_uri": "https://localhost:8080/"
        },
        "id": "ejk8Sz1OwKzU",
        "outputId": "3cabde64-571b-4027-e42c-85bbdd52b4d2"
      },
      "execution_count": 16,
      "outputs": [
        {
          "output_type": "stream",
          "name": "stdout",
          "text": [
            "CPU times: user 163 µs, sys: 0 ns, total: 163 µs\n",
            "Wall time: 169 µs\n"
          ]
        }
      ]
    },
    {
      "cell_type": "code",
      "source": [
        "#Learn\n",
        "rna.fit(xtrain,ytrain)"
      ],
      "metadata": {
        "colab": {
          "base_uri": "https://localhost:8080/"
        },
        "id": "XvF8cCx9whHe",
        "outputId": "1d325a7d-21b5-428e-c317-89d60de0fc57"
      },
      "execution_count": 17,
      "outputs": [
        {
          "output_type": "stream",
          "name": "stderr",
          "text": [
            "/usr/local/lib/python3.8/dist-packages/sklearn/neural_network/_multilayer_perceptron.py:549: ConvergenceWarning: lbfgs failed to converge (status=1):\n",
            "STOP: TOTAL NO. of ITERATIONS REACHED LIMIT.\n",
            "\n",
            "Increase the number of iterations (max_iter) or scale the data as shown in:\n",
            "    https://scikit-learn.org/stable/modules/preprocessing.html\n",
            "  self.n_iter_ = _check_optimize_result(\"lbfgs\", opt_res, self.max_iter)\n"
          ]
        },
        {
          "output_type": "execute_result",
          "data": {
            "text/plain": [
              "MLPClassifier(alpha=1e-05, epsilon=0.07, hidden_layer_sizes=(4,), max_iter=150,\n",
              "              solver='lbfgs')"
            ]
          },
          "metadata": {},
          "execution_count": 17
        }
      ]
    },
    {
      "cell_type": "code",
      "source": [
        "#predict\n",
        "prediction=rna.predict(xtest)\n",
        "prediction"
      ],
      "metadata": {
        "colab": {
          "base_uri": "https://localhost:8080/"
        },
        "id": "bmo6MtZDwoBJ",
        "outputId": "58892251-3d24-4094-fb2e-1ed107c638a3"
      },
      "execution_count": 18,
      "outputs": [
        {
          "output_type": "execute_result",
          "data": {
            "text/plain": [
              "array([0, 2, 0, 1, 2, 1, 0, 0, 2, 2, 1, 0, 0, 2, 0, 2, 2, 2, 1, 2, 1, 0,\n",
              "       2, 2, 2, 1, 2, 2, 2, 1, 0, 0, 1, 2, 2, 0, 0, 2, 0, 2, 0, 1, 1, 0,\n",
              "       1])"
            ]
          },
          "metadata": {},
          "execution_count": 18
        }
      ]
    },
    {
      "cell_type": "code",
      "source": [
        "ytest"
      ],
      "metadata": {
        "colab": {
          "base_uri": "https://localhost:8080/"
        },
        "id": "dXxzA4Tpwq0k",
        "outputId": "f216041a-1cec-4fd8-d6a5-64c0b6a58bb0"
      },
      "execution_count": 19,
      "outputs": [
        {
          "output_type": "execute_result",
          "data": {
            "text/plain": [
              "array([0, 2, 0, 1, 2, 1, 0, 0, 2, 2, 1, 0, 0, 2, 0, 2, 2, 2, 1, 2, 1, 0,\n",
              "       2, 2, 2, 1, 0, 2, 2, 1, 0, 0, 1, 2, 2, 0, 0, 2, 0, 2, 0, 1, 1, 0,\n",
              "       1], dtype=object)"
            ]
          },
          "metadata": {},
          "execution_count": 19
        }
      ]
    },
    {
      "cell_type": "code",
      "source": [
        "#10-Evaluer ce perceptron en affichant son “accuracy” et le temps de réponse.\n",
        "from sklearn import metrics \n",
        "metrics.accuracy_score(list(ytest),prediction)"
      ],
      "metadata": {
        "colab": {
          "base_uri": "https://localhost:8080/"
        },
        "id": "INzzshaNwyil",
        "outputId": "b8f8ad8a-e1b4-42ff-c184-b4bdbcd2293c"
      },
      "execution_count": 20,
      "outputs": [
        {
          "output_type": "execute_result",
          "data": {
            "text/plain": [
              "0.9777777777777777"
            ]
          },
          "metadata": {},
          "execution_count": 20
        }
      ]
    },
    {
      "cell_type": "code",
      "source": [
        "#11-Afficher la matrice de confusion associée à notre cas.\n",
        "metrics.confusion_matrix(list(ytest),prediction)"
      ],
      "metadata": {
        "colab": {
          "base_uri": "https://localhost:8080/"
        },
        "id": "cRaF2HQ2w3TM",
        "outputId": "c2dd9a73-35a2-441c-f3fe-345788a3fbbb"
      },
      "execution_count": 21,
      "outputs": [
        {
          "output_type": "execute_result",
          "data": {
            "text/plain": [
              "array([[15,  0,  1],\n",
              "       [ 0, 11,  0],\n",
              "       [ 0,  0, 18]])"
            ]
          },
          "metadata": {},
          "execution_count": 21
        }
      ]
    },
    {
      "cell_type": "code",
      "source": [
        "#13-On va ajouter le paramètre de taux d’apprentissage au niveau de classifieur utilisé pour une valeur égale 0.7\n",
        "%%time\n",
        "import matplotlib.pyplot as plt\n",
        "rna= MLPClassifier(hidden_layer_sizes=(4,),solver=\"sgd\",epsilon=0.07,max_iter=150,learning_rate_init=0.7,learning_rate= \"constant\")\n",
        "ytrain=ytrain.astype('int')\n",
        "xtrain=xtrain.astype('int')\n",
        "#Learn\n",
        "rna.fit(xtrain,ytrain)\n"
      ],
      "metadata": {
        "colab": {
          "base_uri": "https://localhost:8080/"
        },
        "id": "oI0Vu7auw5X_",
        "outputId": "3cf2986b-3a9d-4458-aca1-ea252a88eace"
      },
      "execution_count": 22,
      "outputs": [
        {
          "output_type": "stream",
          "name": "stdout",
          "text": [
            "CPU times: user 14.7 ms, sys: 874 µs, total: 15.6 ms\n",
            "Wall time: 20.1 ms\n"
          ]
        },
        {
          "output_type": "execute_result",
          "data": {
            "text/plain": [
              "MLPClassifier(epsilon=0.07, hidden_layer_sizes=(4,), learning_rate_init=0.7,\n",
              "              max_iter=150, solver='sgd')"
            ]
          },
          "metadata": {},
          "execution_count": 22
        }
      ]
    },
    {
      "cell_type": "code",
      "source": [
        "#affichage\n",
        "plt.plot(rna.loss_curve_)\n",
        "plt.title(\"Learning Rate Schedule 0.7 constant \",fontsize=14)\n",
        "plt.show()"
      ],
      "metadata": {
        "colab": {
          "base_uri": "https://localhost:8080/",
          "height": 285
        },
        "id": "0f2A7UG0w8YE",
        "outputId": "9e291e32-5660-4c0e-c2ac-cab639a436f8"
      },
      "execution_count": 23,
      "outputs": [
        {
          "output_type": "display_data",
          "data": {
            "text/plain": [
              "<Figure size 432x288 with 1 Axes>"
            ],
            "image/png": "[encoded data removed]"
          },
          "metadata": {}
        }
      ]
    },
    {
      "cell_type": "code",
      "source": [
        "#14-Nous allons étudier la variation du paramètre de taux d’apprentissage\n",
        "rna= MLPClassifier(hidden_layer_sizes=(4,),solver=\"sgd\",epsilon=0.07,max_iter=150,learning_rate_init=0.2,learning_rate= \"constant\",)\n",
        "ytrain=ytrain.astype('int')\n",
        "xtrain=xtrain.astype('int')\n",
        "#Learn\n",
        "rna.fit(xtrain,ytrain)"
      ],
      "metadata": {
        "colab": {
          "base_uri": "https://localhost:8080/"
        },
        "id": "xfz1KlbUxMnI",
        "outputId": "0f86447d-d39b-4a04-f09d-476bbc5e34fd"
      },
      "execution_count": 24,
      "outputs": [
        {
          "output_type": "execute_result",
          "data": {
            "text/plain": [
              "MLPClassifier(epsilon=0.07, hidden_layer_sizes=(4,), learning_rate_init=0.2,\n",
              "              max_iter=150, solver='sgd')"
            ]
          },
          "metadata": {},
          "execution_count": 24
        }
      ]
    },
    {
      "cell_type": "code",
      "source": [
        "plt.plot(rna.loss_curve_)\n",
        "plt.title(\"Learning Rate Schedule 0.2 with constant rate\",fontsize=14)\n",
        "plt.show()"
      ],
      "metadata": {
        "colab": {
          "base_uri": "https://localhost:8080/",
          "height": 285
        },
        "id": "Bv6U40p3xQPt",
        "outputId": "844b28f4-c6f7-4edf-a16f-36662d53b2aa"
      },
      "execution_count": 25,
      "outputs": [
        {
          "output_type": "display_data",
          "data": {
            "text/plain": [
              "<Figure size 432x288 with 1 Axes>"
            ],
            "image/png": "[encoded data removed]"
          },
          "metadata": {}
        }
      ]
    },
    {
      "cell_type": "code",
      "source": [
        "%%time\n",
        "rna1= MLPClassifier(hidden_layer_sizes=(4,),solver=\"sgd\",epsilon=0.07,max_iter=150,learning_rate_init=0.2,learning_rate= \"invscaling\",)\n",
        "ytrain=ytrain.astype('int')\n",
        "xtrain=xtrain.astype('int')\n",
        "#Learn\n",
        "rna1.fit(xtrain,ytrain)"
      ],
      "metadata": {
        "colab": {
          "base_uri": "https://localhost:8080/"
        },
        "id": "C-eylEtixVv9",
        "outputId": "1ae509e8-d3f1-489e-8026-2efc1e411e5a"
      },
      "execution_count": 26,
      "outputs": [
        {
          "output_type": "stream",
          "name": "stdout",
          "text": [
            "CPU times: user 14.9 ms, sys: 0 ns, total: 14.9 ms\n",
            "Wall time: 42.9 ms\n"
          ]
        },
        {
          "output_type": "execute_result",
          "data": {
            "text/plain": [
              "MLPClassifier(epsilon=0.07, hidden_layer_sizes=(4,), learning_rate='invscaling',\n",
              "              learning_rate_init=0.2, max_iter=150, solver='sgd')"
            ]
          },
          "metadata": {},
          "execution_count": 26
        }
      ]
    },
    {
      "cell_type": "code",
      "source": [
        "plt.plot(rna1.loss_curve_)\n",
        "plt.title(\"Learning Rate Schedule 0.2 with invscaling rate\",fontsize=14)\n",
        "plt.show()"
      ],
      "metadata": {
        "colab": {
          "base_uri": "https://localhost:8080/",
          "height": 285
        },
        "id": "HJj19fT1xYD5",
        "outputId": "c13fabe1-578c-4ab9-d0ae-6a52efeadc94"
      },
      "execution_count": 27,
      "outputs": [
        {
          "output_type": "display_data",
          "data": {
            "text/plain": [
              "<Figure size 432x288 with 1 Axes>"
            ],
            "image/png": "[encoded data removed]"
          },
          "metadata": {}
        }
      ]
    },
    {
      "cell_type": "code",
      "source": [
        "rna= MLPClassifier(hidden_layer_sizes=(4,),solver=\"sgd\",epsilon=0.07,max_iter=150,learning_rate_init=0.7,learning_rate= \"invscaling\",)\n",
        "ytrain=ytrain.astype('int')\n",
        "xtrain=xtrain.astype('int')\n",
        "#Learn\n",
        "rna.fit(xtrain,ytrain)"
      ],
      "metadata": {
        "colab": {
          "base_uri": "https://localhost:8080/"
        },
        "id": "mkPLuApkxav4",
        "outputId": "a625b4a3-68ec-4ad9-c377-367ae06d79b2"
      },
      "execution_count": 28,
      "outputs": [
        {
          "output_type": "execute_result",
          "data": {
            "text/plain": [
              "MLPClassifier(epsilon=0.07, hidden_layer_sizes=(4,), learning_rate='invscaling',\n",
              "              learning_rate_init=0.7, max_iter=150, solver='sgd')"
            ]
          },
          "metadata": {},
          "execution_count": 28
        }
      ]
    },
    {
      "cell_type": "code",
      "source": [
        "plt.plot(rna.loss_curve_)\n",
        "plt.title(\"Learning Rate Schedule 0.7 with invscaling rate\",fontsize=14)\n",
        "plt.show()"
      ],
      "metadata": {
        "colab": {
          "base_uri": "https://localhost:8080/",
          "height": 285
        },
        "id": "4ARcBG-bxdw5",
        "outputId": "23c777e7-3fde-44cb-9dc7-ac43c8d33a41"
      },
      "execution_count": 29,
      "outputs": [
        {
          "output_type": "display_data",
          "data": {
            "text/plain": [
              "<Figure size 432x288 with 1 Axes>"
            ],
            "image/png": "[encoded data removed]"
          },
          "metadata": {}
        }
      ]
    },
    {
      "cell_type": "code",
      "source": [
        "#15-Nous allons fixer un nombre d’itération égale à 10 fois le nombre fixé au début.\n",
        "%%time\n",
        "rna1= MLPClassifier(hidden_layer_sizes=(4,),solver=\"lbfgs\",epsilon=0.07,max_iter=1500,alpha=1e-5)\n",
        "xtrain,xtest,ytrain,ytest=model_selection.train_test_split(x,y,train_size=0.7)\n",
        "ytrain=ytrain.astype('int')\n",
        "xtrain=xtrain.astype('int')"
      ],
      "metadata": {
        "colab": {
          "base_uri": "https://localhost:8080/"
        },
        "id": "DZiasmdfxi0h",
        "outputId": "97f28d43-7141-45e3-abaf-67c6f93b6d91"
      },
      "execution_count": 30,
      "outputs": [
        {
          "output_type": "stream",
          "name": "stdout",
          "text": [
            "CPU times: user 2.05 ms, sys: 1e+03 ns, total: 2.05 ms\n",
            "Wall time: 1.93 ms\n"
          ]
        }
      ]
    },
    {
      "cell_type": "code",
      "source": [
        "#Learn\n",
        "rna1.fit(xtrain,ytrain)"
      ],
      "metadata": {
        "colab": {
          "base_uri": "https://localhost:8080/"
        },
        "id": "YHZ1lOEzxl2d",
        "outputId": "bfaafa26-f500-4b94-ef81-a23c956d2061"
      },
      "execution_count": 31,
      "outputs": [
        {
          "output_type": "execute_result",
          "data": {
            "text/plain": [
              "MLPClassifier(alpha=1e-05, epsilon=0.07, hidden_layer_sizes=(4,), max_iter=1500,\n",
              "              solver='lbfgs')"
            ]
          },
          "metadata": {},
          "execution_count": 31
        }
      ]
    },
    {
      "cell_type": "code",
      "source": [
        "#predict\n",
        "prediction=rna1.predict(xtrain)\n",
        "prediction"
      ],
      "metadata": {
        "colab": {
          "base_uri": "https://localhost:8080/"
        },
        "id": "CaWKSwa6xp4v",
        "outputId": "1a13c218-8bb3-4102-d2ed-2a35e5f80b63"
      },
      "execution_count": 32,
      "outputs": [
        {
          "output_type": "execute_result",
          "data": {
            "text/plain": [
              "array([1, 1, 1, 1, 2, 1, 1, 1, 0, 2, 2, 1, 1, 0, 1, 2, 2, 0, 1, 0, 1, 2,\n",
              "       1, 2, 2, 0, 2, 2, 2, 0, 2, 0, 2, 0, 2, 2, 2, 0, 2, 0, 0, 1, 1, 1,\n",
              "       0, 1, 2, 1, 0, 0, 2, 2, 1, 2, 1, 1, 0, 0, 1, 2, 0, 2, 2, 0, 1, 0,\n",
              "       1, 0, 2, 0, 0, 1, 1, 1, 1, 0, 0, 0, 1, 1, 0, 0, 2, 2, 2, 1, 0, 1,\n",
              "       0, 2, 0, 1, 0, 2, 0, 1, 1, 0, 2, 0, 2, 1, 1, 0, 0])"
            ]
          },
          "metadata": {},
          "execution_count": 32
        }
      ]
    },
    {
      "cell_type": "code",
      "source": [
        "ytrain"
      ],
      "metadata": {
        "colab": {
          "base_uri": "https://localhost:8080/"
        },
        "id": "96xXWn7Gxz2F",
        "outputId": "5b4913da-ecfd-4f6b-c18c-e16b054b75a1"
      },
      "execution_count": 33,
      "outputs": [
        {
          "output_type": "execute_result",
          "data": {
            "text/plain": [
              "array([1, 1, 1, 1, 2, 1, 1, 1, 0, 2, 2, 1, 1, 0, 1, 2, 2, 0, 1, 0, 1, 2,\n",
              "       1, 2, 2, 0, 2, 2, 2, 0, 2, 0, 2, 0, 2, 2, 2, 0, 2, 0, 0, 1, 1, 1,\n",
              "       0, 1, 2, 1, 0, 0, 2, 2, 1, 2, 1, 1, 0, 0, 1, 2, 0, 2, 2, 0, 1, 0,\n",
              "       1, 0, 2, 0, 0, 1, 1, 1, 1, 0, 0, 0, 1, 1, 0, 0, 2, 2, 2, 1, 0, 1,\n",
              "       0, 2, 0, 1, 0, 2, 0, 1, 1, 0, 2, 0, 2, 1, 1, 0, 0])"
            ]
          },
          "metadata": {},
          "execution_count": 33
        }
      ]
    },
    {
      "cell_type": "code",
      "source": [
        "metrics.accuracy_score(list(ytrain),prediction)"
      ],
      "metadata": {
        "colab": {
          "base_uri": "https://localhost:8080/"
        },
        "id": "9Z03-8_sx4AE",
        "outputId": "ed9cf516-1584-4b40-eced-bef90241d7b0"
      },
      "execution_count": 34,
      "outputs": [
        {
          "output_type": "execute_result",
          "data": {
            "text/plain": [
              "1.0"
            ]
          },
          "metadata": {},
          "execution_count": 34
        }
      ]
    },
    {
      "cell_type": "code",
      "source": [
        "metrics.confusion_matrix(list(ytrain),prediction)"
      ],
      "metadata": {
        "colab": {
          "base_uri": "https://localhost:8080/"
        },
        "id": "SF2dO7sgx7cY",
        "outputId": "8d99b387-afca-40bb-ff34-58f446262f9e"
      },
      "execution_count": 35,
      "outputs": [
        {
          "output_type": "execute_result",
          "data": {
            "text/plain": [
              "array([[36,  0,  0],\n",
              "       [ 0, 37,  0],\n",
              "       [ 0,  0, 32]])"
            ]
          },
          "metadata": {},
          "execution_count": 35
        }
      ]
    },
    {
      "cell_type": "code",
      "source": [
        "#16-Tester d’autres classifieurs de type réseau de neurones \n",
        "import numpy as np\n",
        "from keras.models import Sequential\n",
        "from keras.layers import Dense,LSTM,BatchNormalization,Dropout\n",
        "from keras.wrappers.scikit_learn import  KerasClassifier\n",
        "from keras.utils import np_utils\n",
        "from sklearn.preprocessing import LabelEncoder"
      ],
      "metadata": {
        "id": "n5GfT8QCyAWU"
      },
      "execution_count": 36,
      "outputs": []
    },
    {
      "cell_type": "code",
      "source": [
        "x=df.values[:,0:4]\n",
        "y=df.values[:,5]\n",
        "x=x.reshape(x.shape+(1,))\n",
        "x = np.asarray(x).astype('float32')\n",
        "y=np_utils.to_categorical(df.values[:,5])\n",
        "xtrain,xtest,ytrain,ytest=model_selection.train_test_split(x,y,train_size=0.8)"
      ],
      "metadata": {
        "id": "vNFFnOpDyIhb"
      },
      "execution_count": 37,
      "outputs": []
    },
    {
      "cell_type": "code",
      "source": [
        "#Non récurrent \n",
        "model1 = Sequential()\n",
        "\n",
        "model1.add(Dense(4,input_shape=(4,),activation='relu'))\n",
        "model1.add(Dense(3,activation='softmax'))\n",
        "\n",
        "model1.compile(optimizer='adam', loss='categorical_crossentropy', metrics=['accuracy'])\n",
        "iris_model = model1.fit(xtrain, ytrain, epochs=100, batch_size=7)"
      ],
      "metadata": {
        "colab": {
          "base_uri": "https://localhost:8080/"
        },
        "id": "PjUtRVmCyOUF",
        "outputId": "d1fa7f58-d6af-4e9b-aefc-68125d69e054"
      },
      "execution_count": 38,
      "outputs": [
        {
          "output_type": "stream",
          "name": "stdout",
          "text": [
            "Epoch 1/100\n",
            "18/18 [==============================] - 1s 2ms/step - loss: 16.5568 - accuracy: 0.3250\n",
            "Epoch 2/100\n",
            "18/18 [==============================] - 0s 2ms/step - loss: 15.0695 - accuracy: 0.3250\n",
            "Epoch 3/100\n",
            "18/18 [==============================] - 0s 2ms/step - loss: 13.6676 - accuracy: 0.3250\n",
            "Epoch 4/100\n",
            "18/18 [==============================] - 0s 2ms/step - loss: 12.4705 - accuracy: 0.3250\n",
            "Epoch 5/100\n",
            "18/18 [==============================] - 0s 2ms/step - loss: 11.2501 - accuracy: 0.3250\n",
            "Epoch 6/100\n",
            "18/18 [==============================] - 0s 2ms/step - loss: 10.2083 - accuracy: 0.3250\n",
            "Epoch 7/100\n",
            "18/18 [==============================] - 0s 3ms/step - loss: 9.1998 - accuracy: 0.3250\n",
            "Epoch 8/100\n",
            "18/18 [==============================] - 0s 3ms/step - loss: 8.2494 - accuracy: 0.3250\n",
            "Epoch 9/100\n",
            "18/18 [==============================] - 0s 2ms/step - loss: 7.3789 - accuracy: 0.3250\n",
            "Epoch 10/100\n",
            "18/18 [==============================] - 0s 2ms/step - loss: 6.5829 - accuracy: 0.3250\n",
            "Epoch 11/100\n",
            "18/18 [==============================] - 0s 2ms/step - loss: 5.8592 - accuracy: 0.3250\n",
            "Epoch 12/100\n",
            "18/18 [==============================] - 0s 2ms/step - loss: 5.1902 - accuracy: 0.3250\n",
            "Epoch 13/100\n",
            "18/18 [==============================] - 0s 2ms/step - loss: 4.6010 - accuracy: 0.3250\n",
            "Epoch 14/100\n",
            "18/18 [==============================] - 0s 2ms/step - loss: 4.0824 - accuracy: 0.3250\n",
            "Epoch 15/100\n",
            "18/18 [==============================] - 0s 2ms/step - loss: 3.6416 - accuracy: 0.3250\n",
            "Epoch 16/100\n",
            "18/18 [==============================] - 0s 2ms/step - loss: 3.3268 - accuracy: 0.3250\n",
            "Epoch 17/100\n",
            "18/18 [==============================] - 0s 2ms/step - loss: 3.0734 - accuracy: 0.3250\n",
            "Epoch 18/100\n",
            "18/18 [==============================] - 0s 2ms/step - loss: 2.9023 - accuracy: 0.3167\n",
            "Epoch 19/100\n",
            "18/18 [==============================] - 0s 2ms/step - loss: 2.7495 - accuracy: 0.2417\n",
            "Epoch 20/100\n",
            "18/18 [==============================] - 0s 3ms/step - loss: 2.6148 - accuracy: 0.1083\n",
            "Epoch 21/100\n",
            "18/18 [==============================] - 0s 2ms/step - loss: 2.5000 - accuracy: 0.1333\n",
            "Epoch 22/100\n",
            "18/18 [==============================] - 0s 2ms/step - loss: 2.3898 - accuracy: 0.3333\n",
            "Epoch 23/100\n",
            "18/18 [==============================] - 0s 2ms/step - loss: 2.2844 - accuracy: 0.3417\n",
            "Epoch 24/100\n",
            "18/18 [==============================] - 0s 2ms/step - loss: 2.1794 - accuracy: 0.3417\n",
            "Epoch 25/100\n",
            "18/18 [==============================] - 0s 2ms/step - loss: 2.0689 - accuracy: 0.3417\n",
            "Epoch 26/100\n",
            "18/18 [==============================] - 0s 2ms/step - loss: 1.9636 - accuracy: 0.3417\n",
            "Epoch 27/100\n",
            "18/18 [==============================] - 0s 2ms/step - loss: 1.8690 - accuracy: 0.3417\n",
            "Epoch 28/100\n",
            "18/18 [==============================] - 0s 2ms/step - loss: 1.7772 - accuracy: 0.3417\n",
            "Epoch 29/100\n",
            "18/18 [==============================] - 0s 2ms/step - loss: 1.6957 - accuracy: 0.3417\n",
            "Epoch 30/100\n",
            "18/18 [==============================] - 0s 2ms/step - loss: 1.6154 - accuracy: 0.3500\n",
            "Epoch 31/100\n",
            "18/18 [==============================] - 0s 2ms/step - loss: 1.5362 - accuracy: 0.3583\n",
            "Epoch 32/100\n",
            "18/18 [==============================] - 0s 2ms/step - loss: 1.4577 - accuracy: 0.3667\n",
            "Epoch 33/100\n",
            "18/18 [==============================] - 0s 2ms/step - loss: 1.3837 - accuracy: 0.3917\n",
            "Epoch 34/100\n",
            "18/18 [==============================] - 0s 2ms/step - loss: 1.3090 - accuracy: 0.3917\n",
            "Epoch 35/100\n",
            "18/18 [==============================] - 0s 2ms/step - loss: 1.2464 - accuracy: 0.4000\n",
            "Epoch 36/100\n",
            "18/18 [==============================] - 0s 2ms/step - loss: 1.1846 - accuracy: 0.4167\n",
            "Epoch 37/100\n",
            "18/18 [==============================] - 0s 2ms/step - loss: 1.1302 - accuracy: 0.4333\n",
            "Epoch 38/100\n",
            "18/18 [==============================] - 0s 2ms/step - loss: 1.0758 - accuracy: 0.4417\n",
            "Epoch 39/100\n",
            "18/18 [==============================] - 0s 2ms/step - loss: 1.0273 - accuracy: 0.4583\n",
            "Epoch 40/100\n",
            "18/18 [==============================] - 0s 2ms/step - loss: 0.9794 - accuracy: 0.4667\n",
            "Epoch 41/100\n",
            "18/18 [==============================] - 0s 2ms/step - loss: 0.9401 - accuracy: 0.4833\n",
            "Epoch 42/100\n",
            "18/18 [==============================] - 0s 2ms/step - loss: 0.9039 - accuracy: 0.4917\n",
            "Epoch 43/100\n",
            "18/18 [==============================] - 0s 2ms/step - loss: 0.8768 - accuracy: 0.5000\n",
            "Epoch 44/100\n",
            "18/18 [==============================] - 0s 2ms/step - loss: 0.8488 - accuracy: 0.5083\n",
            "Epoch 45/100\n",
            "18/18 [==============================] - 0s 2ms/step - loss: 0.8305 - accuracy: 0.5333\n",
            "Epoch 46/100\n",
            "18/18 [==============================] - 0s 2ms/step - loss: 0.8179 - accuracy: 0.5417\n",
            "Epoch 47/100\n",
            "18/18 [==============================] - 0s 3ms/step - loss: 0.8080 - accuracy: 0.5417\n",
            "Epoch 48/100\n",
            "18/18 [==============================] - 0s 2ms/step - loss: 0.8015 - accuracy: 0.5667\n",
            "Epoch 49/100\n",
            "18/18 [==============================] - 0s 2ms/step - loss: 0.7951 - accuracy: 0.5750\n",
            "Epoch 50/100\n",
            "18/18 [==============================] - 0s 2ms/step - loss: 0.7907 - accuracy: 0.5833\n",
            "Epoch 51/100\n",
            "18/18 [==============================] - 0s 2ms/step - loss: 0.7868 - accuracy: 0.5833\n",
            "Epoch 52/100\n",
            "18/18 [==============================] - 0s 2ms/step - loss: 0.7836 - accuracy: 0.5833\n",
            "Epoch 53/100\n",
            "18/18 [==============================] - 0s 2ms/step - loss: 0.7806 - accuracy: 0.5917\n",
            "Epoch 54/100\n",
            "18/18 [==============================] - 0s 3ms/step - loss: 0.7775 - accuracy: 0.5917\n",
            "Epoch 55/100\n",
            "18/18 [==============================] - 0s 2ms/step - loss: 0.7747 - accuracy: 0.5917\n",
            "Epoch 56/100\n",
            "18/18 [==============================] - 0s 2ms/step - loss: 0.7719 - accuracy: 0.6083\n",
            "Epoch 57/100\n",
            "18/18 [==============================] - 0s 2ms/step - loss: 0.7688 - accuracy: 0.6083\n",
            "Epoch 58/100\n",
            "18/18 [==============================] - 0s 2ms/step - loss: 0.7656 - accuracy: 0.6167\n",
            "Epoch 59/100\n",
            "18/18 [==============================] - 0s 2ms/step - loss: 0.7631 - accuracy: 0.6167\n",
            "Epoch 60/100\n",
            "18/18 [==============================] - 0s 2ms/step - loss: 0.7602 - accuracy: 0.6167\n",
            "Epoch 61/100\n",
            "18/18 [==============================] - 0s 2ms/step - loss: 0.7577 - accuracy: 0.6167\n",
            "Epoch 62/100\n",
            "18/18 [==============================] - 0s 2ms/step - loss: 0.7539 - accuracy: 0.6250\n",
            "Epoch 63/100\n",
            "18/18 [==============================] - 0s 2ms/step - loss: 0.7516 - accuracy: 0.6250\n",
            "Epoch 64/100\n",
            "18/18 [==============================] - 0s 2ms/step - loss: 0.7487 - accuracy: 0.6250\n",
            "Epoch 65/100\n",
            "18/18 [==============================] - 0s 2ms/step - loss: 0.7458 - accuracy: 0.6250\n",
            "Epoch 66/100\n",
            "18/18 [==============================] - 0s 2ms/step - loss: 0.7428 - accuracy: 0.6250\n",
            "Epoch 67/100\n",
            "18/18 [==============================] - 0s 2ms/step - loss: 0.7399 - accuracy: 0.6250\n",
            "Epoch 68/100\n",
            "18/18 [==============================] - 0s 2ms/step - loss: 0.7374 - accuracy: 0.6333\n",
            "Epoch 69/100\n",
            "18/18 [==============================] - 0s 2ms/step - loss: 0.7341 - accuracy: 0.6333\n",
            "Epoch 70/100\n",
            "18/18 [==============================] - 0s 2ms/step - loss: 0.7312 - accuracy: 0.6333\n",
            "Epoch 71/100\n",
            "18/18 [==============================] - 0s 2ms/step - loss: 0.7288 - accuracy: 0.6250\n",
            "Epoch 72/100\n",
            "18/18 [==============================] - 0s 2ms/step - loss: 0.7260 - accuracy: 0.6250\n",
            "Epoch 73/100\n",
            "18/18 [==============================] - 0s 2ms/step - loss: 0.7230 - accuracy: 0.6250\n",
            "Epoch 74/100\n",
            "18/18 [==============================] - 0s 2ms/step - loss: 0.7203 - accuracy: 0.6333\n",
            "Epoch 75/100\n",
            "18/18 [==============================] - 0s 2ms/step - loss: 0.7173 - accuracy: 0.6333\n",
            "Epoch 76/100\n",
            "18/18 [==============================] - 0s 2ms/step - loss: 0.7146 - accuracy: 0.6333\n",
            "Epoch 77/100\n",
            "18/18 [==============================] - 0s 2ms/step - loss: 0.7115 - accuracy: 0.6417\n",
            "Epoch 78/100\n",
            "18/18 [==============================] - 0s 2ms/step - loss: 0.7093 - accuracy: 0.6417\n",
            "Epoch 79/100\n",
            "18/18 [==============================] - 0s 2ms/step - loss: 0.7065 - accuracy: 0.6500\n",
            "Epoch 80/100\n",
            "18/18 [==============================] - 0s 2ms/step - loss: 0.7027 - accuracy: 0.6500\n",
            "Epoch 81/100\n",
            "18/18 [==============================] - 0s 2ms/step - loss: 0.7005 - accuracy: 0.6583\n",
            "Epoch 82/100\n",
            "18/18 [==============================] - 0s 2ms/step - loss: 0.6972 - accuracy: 0.6667\n",
            "Epoch 83/100\n",
            "18/18 [==============================] - 0s 2ms/step - loss: 0.6944 - accuracy: 0.6667\n",
            "Epoch 84/100\n",
            "18/18 [==============================] - 0s 2ms/step - loss: 0.6911 - accuracy: 0.6667\n",
            "Epoch 85/100\n",
            "18/18 [==============================] - 0s 2ms/step - loss: 0.6883 - accuracy: 0.6667\n",
            "Epoch 86/100\n",
            "18/18 [==============================] - 0s 2ms/step - loss: 0.6852 - accuracy: 0.6583\n",
            "Epoch 87/100\n",
            "18/18 [==============================] - 0s 2ms/step - loss: 0.6825 - accuracy: 0.6583\n",
            "Epoch 88/100\n",
            "18/18 [==============================] - 0s 3ms/step - loss: 0.6799 - accuracy: 0.6583\n",
            "Epoch 89/100\n",
            "18/18 [==============================] - 0s 2ms/step - loss: 0.6770 - accuracy: 0.6667\n",
            "Epoch 90/100\n",
            "18/18 [==============================] - 0s 2ms/step - loss: 0.6743 - accuracy: 0.6667\n",
            "Epoch 91/100\n",
            "18/18 [==============================] - 0s 2ms/step - loss: 0.6713 - accuracy: 0.6667\n",
            "Epoch 92/100\n",
            "18/18 [==============================] - 0s 2ms/step - loss: 0.6686 - accuracy: 0.6667\n",
            "Epoch 93/100\n",
            "18/18 [==============================] - 0s 2ms/step - loss: 0.6658 - accuracy: 0.6667\n",
            "Epoch 94/100\n",
            "18/18 [==============================] - 0s 2ms/step - loss: 0.6633 - accuracy: 0.6667\n",
            "Epoch 95/100\n",
            "18/18 [==============================] - 0s 2ms/step - loss: 0.6607 - accuracy: 0.6667\n",
            "Epoch 96/100\n",
            "18/18 [==============================] - 0s 2ms/step - loss: 0.6580 - accuracy: 0.6667\n",
            "Epoch 97/100\n",
            "18/18 [==============================] - 0s 2ms/step - loss: 0.6554 - accuracy: 0.6667\n",
            "Epoch 98/100\n",
            "18/18 [==============================] - 0s 2ms/step - loss: 0.6526 - accuracy: 0.6750\n",
            "Epoch 99/100\n",
            "18/18 [==============================] - 0s 2ms/step - loss: 0.6504 - accuracy: 0.6667\n",
            "Epoch 100/100\n",
            "18/18 [==============================] - 0s 3ms/step - loss: 0.6475 - accuracy: 0.6750\n"
          ]
        }
      ]
    },
    {
      "cell_type": "code",
      "source": [
        "#predict \n",
        "pred= model1.predict(xtest)\n",
        "y_test=np.argmax(ytest,axis=1)\n",
        "y_pred=np.argmax(pred,axis=1)\n",
        "y_pred"
      ],
      "metadata": {
        "colab": {
          "base_uri": "https://localhost:8080/"
        },
        "id": "Eb0y-0llyW7O",
        "outputId": "bad15ad9-be05-442f-ec78-9a3ebc632952"
      },
      "execution_count": 39,
      "outputs": [
        {
          "output_type": "stream",
          "name": "stdout",
          "text": [
            "1/1 [==============================] - 0s 220ms/step\n"
          ]
        },
        {
          "output_type": "execute_result",
          "data": {
            "text/plain": [
              "array([1, 0, 1, 0, 1, 1, 0, 1, 1, 1, 1, 0, 1, 0, 0, 1, 1, 1, 1, 0, 0, 1,\n",
              "       0, 1, 0, 1, 0, 1, 1, 1])"
            ]
          },
          "metadata": {},
          "execution_count": 39
        }
      ]
    },
    {
      "cell_type": "code",
      "source": [
        "y_test"
      ],
      "metadata": {
        "colab": {
          "base_uri": "https://localhost:8080/"
        },
        "id": "AXiPErUOyY0Z",
        "outputId": "18f7bf0a-2ab5-4cbb-87db-9510af329414"
      },
      "execution_count": 40,
      "outputs": [
        {
          "output_type": "execute_result",
          "data": {
            "text/plain": [
              "array([1, 0, 1, 0, 1, 1, 0, 2, 1, 1, 1, 0, 2, 0, 0, 2, 2, 2, 2, 0, 0, 2,\n",
              "       0, 1, 0, 1, 2, 2, 2, 2])"
            ]
          },
          "metadata": {},
          "execution_count": 40
        }
      ]
    },
    {
      "cell_type": "code",
      "source": [
        "_,test=model1.evaluate(xtest,ytest)"
      ],
      "metadata": {
        "colab": {
          "base_uri": "https://localhost:8080/"
        },
        "id": "3Fp8f-YJybCG",
        "outputId": "9be76f20-ad39-429d-a4d7-6d596b59d622"
      },
      "execution_count": 41,
      "outputs": [
        {
          "output_type": "stream",
          "name": "stdout",
          "text": [
            "1/1 [==============================] - 0s 380ms/step - loss: 0.6549 - accuracy: 0.6333\n"
          ]
        }
      ]
    },
    {
      "cell_type": "code",
      "source": [
        "#Récurrent using LSTM\n",
        "model=Sequential()\n",
        "\n",
        "model.add(LSTM(4))\n",
        "model.add(Dense(3,activation=\"softmax\"))\n",
        "\n",
        "model.compile(loss=\"categorical_crossentropy\",optimizer=\"adam\",metrics=['accuracy'])\n",
        "model.fit(xtrain,ytrain,epochs=200,verbose=1)"
      ],
      "metadata": {
        "colab": {
          "base_uri": "https://localhost:8080/"
        },
        "id": "5wtqoWWlylrF",
        "outputId": "e39a16f0-6cde-4e5c-a79e-b7d2fd56d9b5"
      },
      "execution_count": 42,
      "outputs": [
        {
          "output_type": "stream",
          "name": "stdout",
          "text": [
            "Epoch 1/200\n",
            "4/4 [==============================] - 4s 6ms/step - loss: 1.1176 - accuracy: 0.2917\n",
            "Epoch 2/200\n",
            "4/4 [==============================] - 0s 8ms/step - loss: 1.1161 - accuracy: 0.3167\n",
            "Epoch 3/200\n",
            "4/4 [==============================] - 0s 5ms/step - loss: 1.1144 - accuracy: 0.3167\n",
            "Epoch 4/200\n",
            "4/4 [==============================] - 0s 5ms/step - loss: 1.1128 - accuracy: 0.3167\n",
            "Epoch 5/200\n",
            "4/4 [==============================] - 0s 6ms/step - loss: 1.1116 - accuracy: 0.3250\n",
            "Epoch 6/200\n",
            "4/4 [==============================] - 0s 5ms/step - loss: 1.1101 - accuracy: 0.3250\n",
            "Epoch 7/200\n",
            "4/4 [==============================] - 0s 5ms/step - loss: 1.1089 - accuracy: 0.3250\n",
            "Epoch 8/200\n",
            "4/4 [==============================] - 0s 6ms/step - loss: 1.1075 - accuracy: 0.3250\n",
            "Epoch 9/200\n",
            "4/4 [==============================] - 0s 6ms/step - loss: 1.1063 - accuracy: 0.3250\n",
            "Epoch 10/200\n",
            "4/4 [==============================] - 0s 5ms/step - loss: 1.1049 - accuracy: 0.3250\n",
            "Epoch 11/200\n",
            "4/4 [==============================] - 0s 6ms/step - loss: 1.1038 - accuracy: 0.3250\n",
            "Epoch 12/200\n",
            "4/4 [==============================] - 0s 7ms/step - loss: 1.1025 - accuracy: 0.3250\n",
            "Epoch 13/200\n",
            "4/4 [==============================] - 0s 6ms/step - loss: 1.1014 - accuracy: 0.3250\n",
            "Epoch 14/200\n",
            "4/4 [==============================] - 0s 6ms/step - loss: 1.1003 - accuracy: 0.3250\n",
            "Epoch 15/200\n",
            "4/4 [==============================] - 0s 5ms/step - loss: 1.0990 - accuracy: 0.3250\n",
            "Epoch 16/200\n",
            "4/4 [==============================] - 0s 5ms/step - loss: 1.0978 - accuracy: 0.3250\n",
            "Epoch 17/200\n",
            "4/4 [==============================] - 0s 6ms/step - loss: 1.0966 - accuracy: 0.3250\n",
            "Epoch 18/200\n",
            "4/4 [==============================] - 0s 5ms/step - loss: 1.0955 - accuracy: 0.3250\n",
            "Epoch 19/200\n",
            "4/4 [==============================] - 0s 5ms/step - loss: 1.0944 - accuracy: 0.3250\n",
            "Epoch 20/200\n",
            "4/4 [==============================] - 0s 6ms/step - loss: 1.0932 - accuracy: 0.3250\n",
            "Epoch 21/200\n",
            "4/4 [==============================] - 0s 7ms/step - loss: 1.0919 - accuracy: 0.3250\n",
            "Epoch 22/200\n",
            "4/4 [==============================] - 0s 6ms/step - loss: 1.0907 - accuracy: 0.3250\n",
            "Epoch 23/200\n",
            "4/4 [==============================] - 0s 5ms/step - loss: 1.0895 - accuracy: 0.3250\n",
            "Epoch 24/200\n",
            "4/4 [==============================] - 0s 6ms/step - loss: 1.0883 - accuracy: 0.3250\n",
            "Epoch 25/200\n",
            "4/4 [==============================] - 0s 5ms/step - loss: 1.0869 - accuracy: 0.3250\n",
            "Epoch 26/200\n",
            "4/4 [==============================] - 0s 5ms/step - loss: 1.0857 - accuracy: 0.3333\n",
            "Epoch 27/200\n",
            "4/4 [==============================] - 0s 8ms/step - loss: 1.0844 - accuracy: 0.3583\n",
            "Epoch 28/200\n",
            "4/4 [==============================] - 0s 6ms/step - loss: 1.0832 - accuracy: 0.3667\n",
            "Epoch 29/200\n",
            "4/4 [==============================] - 0s 6ms/step - loss: 1.0817 - accuracy: 0.3667\n",
            "Epoch 30/200\n",
            "4/4 [==============================] - 0s 5ms/step - loss: 1.0804 - accuracy: 0.3667\n",
            "Epoch 31/200\n",
            "4/4 [==============================] - 0s 7ms/step - loss: 1.0790 - accuracy: 0.3750\n",
            "Epoch 32/200\n",
            "4/4 [==============================] - 0s 5ms/step - loss: 1.0777 - accuracy: 0.3833\n",
            "Epoch 33/200\n",
            "4/4 [==============================] - 0s 5ms/step - loss: 1.0763 - accuracy: 0.4250\n",
            "Epoch 34/200\n",
            "4/4 [==============================] - 0s 6ms/step - loss: 1.0748 - accuracy: 0.4500\n",
            "Epoch 35/200\n",
            "4/4 [==============================] - 0s 6ms/step - loss: 1.0734 - accuracy: 0.4750\n",
            "Epoch 36/200\n",
            "4/4 [==============================] - 0s 6ms/step - loss: 1.0719 - accuracy: 0.4833\n",
            "Epoch 37/200\n",
            "4/4 [==============================] - 0s 5ms/step - loss: 1.0704 - accuracy: 0.5083\n",
            "Epoch 38/200\n",
            "4/4 [==============================] - 0s 6ms/step - loss: 1.0690 - accuracy: 0.5833\n",
            "Epoch 39/200\n",
            "4/4 [==============================] - 0s 6ms/step - loss: 1.0675 - accuracy: 0.6083\n",
            "Epoch 40/200\n",
            "4/4 [==============================] - 0s 6ms/step - loss: 1.0659 - accuracy: 0.6333\n",
            "Epoch 41/200\n",
            "4/4 [==============================] - 0s 5ms/step - loss: 1.0643 - accuracy: 0.7083\n",
            "Epoch 42/200\n",
            "4/4 [==============================] - 0s 6ms/step - loss: 1.0628 - accuracy: 0.7167\n",
            "Epoch 43/200\n",
            "4/4 [==============================] - 0s 7ms/step - loss: 1.0611 - accuracy: 0.7333\n",
            "Epoch 44/200\n",
            "4/4 [==============================] - 0s 5ms/step - loss: 1.0594 - accuracy: 0.7750\n",
            "Epoch 45/200\n",
            "4/4 [==============================] - 0s 5ms/step - loss: 1.0578 - accuracy: 0.7917\n",
            "Epoch 46/200\n",
            "4/4 [==============================] - 0s 6ms/step - loss: 1.0561 - accuracy: 0.8083\n",
            "Epoch 47/200\n",
            "4/4 [==============================] - 0s 6ms/step - loss: 1.0544 - accuracy: 0.8167\n",
            "Epoch 48/200\n",
            "4/4 [==============================] - 0s 7ms/step - loss: 1.0527 - accuracy: 0.8333\n",
            "Epoch 49/200\n",
            "4/4 [==============================] - 0s 6ms/step - loss: 1.0511 - accuracy: 0.8250\n",
            "Epoch 50/200\n",
            "4/4 [==============================] - 0s 5ms/step - loss: 1.0491 - accuracy: 0.8583\n",
            "Epoch 51/200\n",
            "4/4 [==============================] - 0s 6ms/step - loss: 1.0472 - accuracy: 0.8833\n",
            "Epoch 52/200\n",
            "4/4 [==============================] - 0s 6ms/step - loss: 1.0455 - accuracy: 0.8833\n",
            "Epoch 53/200\n",
            "4/4 [==============================] - 0s 5ms/step - loss: 1.0436 - accuracy: 0.8917\n",
            "Epoch 54/200\n",
            "4/4 [==============================] - 0s 5ms/step - loss: 1.0416 - accuracy: 0.9000\n",
            "Epoch 55/200\n",
            "4/4 [==============================] - 0s 5ms/step - loss: 1.0397 - accuracy: 0.9000\n",
            "Epoch 56/200\n",
            "4/4 [==============================] - 0s 6ms/step - loss: 1.0377 - accuracy: 0.9000\n",
            "Epoch 57/200\n",
            "4/4 [==============================] - 0s 6ms/step - loss: 1.0357 - accuracy: 0.8833\n",
            "Epoch 58/200\n",
            "4/4 [==============================] - 0s 8ms/step - loss: 1.0336 - accuracy: 0.8833\n",
            "Epoch 59/200\n",
            "4/4 [==============================] - 0s 9ms/step - loss: 1.0315 - accuracy: 0.8917\n",
            "Epoch 60/200\n",
            "4/4 [==============================] - 0s 5ms/step - loss: 1.0294 - accuracy: 0.8917\n",
            "Epoch 61/200\n",
            "4/4 [==============================] - 0s 6ms/step - loss: 1.0273 - accuracy: 0.8917\n",
            "Epoch 62/200\n",
            "4/4 [==============================] - 0s 6ms/step - loss: 1.0249 - accuracy: 0.8917\n",
            "Epoch 63/200\n",
            "4/4 [==============================] - 0s 5ms/step - loss: 1.0228 - accuracy: 0.8917\n",
            "Epoch 64/200\n",
            "4/4 [==============================] - 0s 6ms/step - loss: 1.0204 - accuracy: 0.8833\n",
            "Epoch 65/200\n",
            "4/4 [==============================] - 0s 6ms/step - loss: 1.0182 - accuracy: 0.8667\n",
            "Epoch 66/200\n",
            "4/4 [==============================] - 0s 6ms/step - loss: 1.0158 - accuracy: 0.8667\n",
            "Epoch 67/200\n",
            "4/4 [==============================] - 0s 7ms/step - loss: 1.0133 - accuracy: 0.8667\n",
            "Epoch 68/200\n",
            "4/4 [==============================] - 0s 6ms/step - loss: 1.0108 - accuracy: 0.8667\n",
            "Epoch 69/200\n",
            "4/4 [==============================] - 0s 7ms/step - loss: 1.0084 - accuracy: 0.8750\n",
            "Epoch 70/200\n",
            "4/4 [==============================] - 0s 7ms/step - loss: 1.0059 - accuracy: 0.8750\n",
            "Epoch 71/200\n",
            "4/4 [==============================] - 0s 7ms/step - loss: 1.0033 - accuracy: 0.8750\n",
            "Epoch 72/200\n",
            "4/4 [==============================] - 0s 7ms/step - loss: 1.0007 - accuracy: 0.8750\n",
            "Epoch 73/200\n",
            "4/4 [==============================] - 0s 8ms/step - loss: 0.9979 - accuracy: 0.8667\n",
            "Epoch 74/200\n",
            "4/4 [==============================] - 0s 6ms/step - loss: 0.9952 - accuracy: 0.8500\n",
            "Epoch 75/200\n",
            "4/4 [==============================] - 0s 6ms/step - loss: 0.9923 - accuracy: 0.8500\n",
            "Epoch 76/200\n",
            "4/4 [==============================] - 0s 8ms/step - loss: 0.9895 - accuracy: 0.8500\n",
            "Epoch 77/200\n",
            "4/4 [==============================] - 0s 6ms/step - loss: 0.9865 - accuracy: 0.8500\n",
            "Epoch 78/200\n",
            "4/4 [==============================] - 0s 6ms/step - loss: 0.9835 - accuracy: 0.8500\n",
            "Epoch 79/200\n",
            "4/4 [==============================] - 0s 6ms/step - loss: 0.9803 - accuracy: 0.8500\n",
            "Epoch 80/200\n",
            "4/4 [==============================] - 0s 7ms/step - loss: 0.9771 - accuracy: 0.8500\n",
            "Epoch 81/200\n",
            "4/4 [==============================] - 0s 7ms/step - loss: 0.9734 - accuracy: 0.8500\n",
            "Epoch 82/200\n",
            "4/4 [==============================] - 0s 6ms/step - loss: 0.9685 - accuracy: 0.8500\n",
            "Epoch 83/200\n",
            "4/4 [==============================] - 0s 7ms/step - loss: 0.9618 - accuracy: 0.8000\n",
            "Epoch 84/200\n",
            "4/4 [==============================] - 0s 7ms/step - loss: 0.9517 - accuracy: 0.7917\n",
            "Epoch 85/200\n",
            "4/4 [==============================] - 0s 8ms/step - loss: 0.9449 - accuracy: 0.7917\n",
            "Epoch 86/200\n",
            "4/4 [==============================] - 0s 7ms/step - loss: 0.9405 - accuracy: 0.8000\n",
            "Epoch 87/200\n",
            "4/4 [==============================] - 0s 7ms/step - loss: 0.9365 - accuracy: 0.8083\n",
            "Epoch 88/200\n",
            "4/4 [==============================] - 0s 8ms/step - loss: 0.9322 - accuracy: 0.8250\n",
            "Epoch 89/200\n",
            "4/4 [==============================] - 0s 9ms/step - loss: 0.9284 - accuracy: 0.8417\n",
            "Epoch 90/200\n",
            "4/4 [==============================] - 0s 7ms/step - loss: 0.9245 - accuracy: 0.8500\n",
            "Epoch 91/200\n",
            "4/4 [==============================] - 0s 6ms/step - loss: 0.9207 - accuracy: 0.8500\n",
            "Epoch 92/200\n",
            "4/4 [==============================] - 0s 8ms/step - loss: 0.9171 - accuracy: 0.8583\n",
            "Epoch 93/200\n",
            "4/4 [==============================] - 0s 7ms/step - loss: 0.9136 - accuracy: 0.8667\n",
            "Epoch 94/200\n",
            "4/4 [==============================] - 0s 7ms/step - loss: 0.9097 - accuracy: 0.8667\n",
            "Epoch 95/200\n",
            "4/4 [==============================] - 0s 7ms/step - loss: 0.9059 - accuracy: 0.8667\n",
            "Epoch 96/200\n",
            "4/4 [==============================] - 0s 8ms/step - loss: 0.9023 - accuracy: 0.8667\n",
            "Epoch 97/200\n",
            "4/4 [==============================] - 0s 6ms/step - loss: 0.8985 - accuracy: 0.8667\n",
            "Epoch 98/200\n",
            "4/4 [==============================] - 0s 6ms/step - loss: 0.8948 - accuracy: 0.8667\n",
            "Epoch 99/200\n",
            "4/4 [==============================] - 0s 7ms/step - loss: 0.8909 - accuracy: 0.8667\n",
            "Epoch 100/200\n",
            "4/4 [==============================] - 0s 6ms/step - loss: 0.8871 - accuracy: 0.8667\n",
            "Epoch 101/200\n",
            "4/4 [==============================] - 0s 6ms/step - loss: 0.8834 - accuracy: 0.8583\n",
            "Epoch 102/200\n",
            "4/4 [==============================] - 0s 5ms/step - loss: 0.8794 - accuracy: 0.8583\n",
            "Epoch 103/200\n",
            "4/4 [==============================] - 0s 6ms/step - loss: 0.8756 - accuracy: 0.8500\n",
            "Epoch 104/200\n",
            "4/4 [==============================] - 0s 5ms/step - loss: 0.8717 - accuracy: 0.8583\n",
            "Epoch 105/200\n",
            "4/4 [==============================] - 0s 9ms/step - loss: 0.8679 - accuracy: 0.8500\n",
            "Epoch 106/200\n",
            "4/4 [==============================] - 0s 7ms/step - loss: 0.8640 - accuracy: 0.8500\n",
            "Epoch 107/200\n",
            "4/4 [==============================] - 0s 7ms/step - loss: 0.8602 - accuracy: 0.8500\n",
            "Epoch 108/200\n",
            "4/4 [==============================] - 0s 7ms/step - loss: 0.8563 - accuracy: 0.8583\n",
            "Epoch 109/200\n",
            "4/4 [==============================] - 0s 6ms/step - loss: 0.8524 - accuracy: 0.8583\n",
            "Epoch 110/200\n",
            "4/4 [==============================] - 0s 6ms/step - loss: 0.8487 - accuracy: 0.8583\n",
            "Epoch 111/200\n",
            "4/4 [==============================] - 0s 6ms/step - loss: 0.8445 - accuracy: 0.8500\n",
            "Epoch 112/200\n",
            "4/4 [==============================] - 0s 6ms/step - loss: 0.8408 - accuracy: 0.8500\n",
            "Epoch 113/200\n",
            "4/4 [==============================] - 0s 6ms/step - loss: 0.8370 - accuracy: 0.8583\n",
            "Epoch 114/200\n",
            "4/4 [==============================] - 0s 8ms/step - loss: 0.8330 - accuracy: 0.8583\n",
            "Epoch 115/200\n",
            "4/4 [==============================] - 0s 6ms/step - loss: 0.8292 - accuracy: 0.8583\n",
            "Epoch 116/200\n",
            "4/4 [==============================] - 0s 5ms/step - loss: 0.8252 - accuracy: 0.8583\n",
            "Epoch 117/200\n",
            "4/4 [==============================] - 0s 8ms/step - loss: 0.8217 - accuracy: 0.8583\n",
            "Epoch 118/200\n",
            "4/4 [==============================] - 0s 6ms/step - loss: 0.8177 - accuracy: 0.8583\n",
            "Epoch 119/200\n",
            "4/4 [==============================] - 0s 5ms/step - loss: 0.8140 - accuracy: 0.8583\n",
            "Epoch 120/200\n",
            "4/4 [==============================] - 0s 6ms/step - loss: 0.8100 - accuracy: 0.8583\n",
            "Epoch 121/200\n",
            "4/4 [==============================] - 0s 5ms/step - loss: 0.8063 - accuracy: 0.8500\n",
            "Epoch 122/200\n",
            "4/4 [==============================] - 0s 5ms/step - loss: 0.8025 - accuracy: 0.8500\n",
            "Epoch 123/200\n",
            "4/4 [==============================] - 0s 6ms/step - loss: 0.7987 - accuracy: 0.8500\n",
            "Epoch 124/200\n",
            "4/4 [==============================] - 0s 6ms/step - loss: 0.7950 - accuracy: 0.8500\n",
            "Epoch 125/200\n",
            "4/4 [==============================] - 0s 6ms/step - loss: 0.7913 - accuracy: 0.8417\n",
            "Epoch 126/200\n",
            "4/4 [==============================] - 0s 5ms/step - loss: 0.7878 - accuracy: 0.8417\n",
            "Epoch 127/200\n",
            "4/4 [==============================] - 0s 6ms/step - loss: 0.7838 - accuracy: 0.8417\n",
            "Epoch 128/200\n",
            "4/4 [==============================] - 0s 5ms/step - loss: 0.7802 - accuracy: 0.8500\n",
            "Epoch 129/200\n",
            "4/4 [==============================] - 0s 6ms/step - loss: 0.7766 - accuracy: 0.8500\n",
            "Epoch 130/200\n",
            "4/4 [==============================] - 0s 7ms/step - loss: 0.7730 - accuracy: 0.8417\n",
            "Epoch 131/200\n",
            "4/4 [==============================] - 0s 6ms/step - loss: 0.7693 - accuracy: 0.8417\n",
            "Epoch 132/200\n",
            "4/4 [==============================] - 0s 5ms/step - loss: 0.7658 - accuracy: 0.8333\n",
            "Epoch 133/200\n",
            "4/4 [==============================] - 0s 6ms/step - loss: 0.7621 - accuracy: 0.8417\n",
            "Epoch 134/200\n",
            "4/4 [==============================] - 0s 5ms/step - loss: 0.7586 - accuracy: 0.8417\n",
            "Epoch 135/200\n",
            "4/4 [==============================] - 0s 6ms/step - loss: 0.7552 - accuracy: 0.8417\n",
            "Epoch 136/200\n",
            "4/4 [==============================] - 0s 6ms/step - loss: 0.7516 - accuracy: 0.8417\n",
            "Epoch 137/200\n",
            "4/4 [==============================] - 0s 5ms/step - loss: 0.7482 - accuracy: 0.8417\n",
            "Epoch 138/200\n",
            "4/4 [==============================] - 0s 5ms/step - loss: 0.7447 - accuracy: 0.8417\n",
            "Epoch 139/200\n",
            "4/4 [==============================] - 0s 7ms/step - loss: 0.7415 - accuracy: 0.8417\n",
            "Epoch 140/200\n",
            "4/4 [==============================] - 0s 5ms/step - loss: 0.7379 - accuracy: 0.8417\n",
            "Epoch 141/200\n",
            "4/4 [==============================] - 0s 6ms/step - loss: 0.7346 - accuracy: 0.8417\n",
            "Epoch 142/200\n",
            "4/4 [==============================] - 0s 6ms/step - loss: 0.7313 - accuracy: 0.8500\n",
            "Epoch 143/200\n",
            "4/4 [==============================] - 0s 6ms/step - loss: 0.7280 - accuracy: 0.8417\n",
            "Epoch 144/200\n",
            "4/4 [==============================] - 0s 6ms/step - loss: 0.7248 - accuracy: 0.8417\n",
            "Epoch 145/200\n",
            "4/4 [==============================] - 0s 6ms/step - loss: 0.7216 - accuracy: 0.8417\n",
            "Epoch 146/200\n",
            "4/4 [==============================] - 0s 6ms/step - loss: 0.7183 - accuracy: 0.8417\n",
            "Epoch 147/200\n",
            "4/4 [==============================] - 0s 6ms/step - loss: 0.7153 - accuracy: 0.8417\n",
            "Epoch 148/200\n",
            "4/4 [==============================] - 0s 8ms/step - loss: 0.7121 - accuracy: 0.8417\n",
            "Epoch 149/200\n",
            "4/4 [==============================] - 0s 9ms/step - loss: 0.7090 - accuracy: 0.8417\n",
            "Epoch 150/200\n",
            "4/4 [==============================] - 0s 8ms/step - loss: 0.7059 - accuracy: 0.8417\n",
            "Epoch 151/200\n",
            "4/4 [==============================] - 0s 6ms/step - loss: 0.7030 - accuracy: 0.8417\n",
            "Epoch 152/200\n",
            "4/4 [==============================] - 0s 7ms/step - loss: 0.6999 - accuracy: 0.8417\n",
            "Epoch 153/200\n",
            "4/4 [==============================] - 0s 7ms/step - loss: 0.6970 - accuracy: 0.8417\n",
            "Epoch 154/200\n",
            "4/4 [==============================] - 0s 6ms/step - loss: 0.6941 - accuracy: 0.8500\n",
            "Epoch 155/200\n",
            "4/4 [==============================] - 0s 7ms/step - loss: 0.6912 - accuracy: 0.8500\n",
            "Epoch 156/200\n",
            "4/4 [==============================] - 0s 6ms/step - loss: 0.6884 - accuracy: 0.8500\n",
            "Epoch 157/200\n",
            "4/4 [==============================] - 0s 7ms/step - loss: 0.6855 - accuracy: 0.8500\n",
            "Epoch 158/200\n",
            "4/4 [==============================] - 0s 5ms/step - loss: 0.6827 - accuracy: 0.8583\n",
            "Epoch 159/200\n",
            "4/4 [==============================] - 0s 6ms/step - loss: 0.6800 - accuracy: 0.8583\n",
            "Epoch 160/200\n",
            "4/4 [==============================] - 0s 5ms/step - loss: 0.6772 - accuracy: 0.8583\n",
            "Epoch 161/200\n",
            "4/4 [==============================] - 0s 6ms/step - loss: 0.6746 - accuracy: 0.8583\n",
            "Epoch 162/200\n",
            "4/4 [==============================] - 0s 6ms/step - loss: 0.6720 - accuracy: 0.8500\n",
            "Epoch 163/200\n",
            "4/4 [==============================] - 0s 7ms/step - loss: 0.6693 - accuracy: 0.8500\n",
            "Epoch 164/200\n",
            "4/4 [==============================] - 0s 6ms/step - loss: 0.6668 - accuracy: 0.8500\n",
            "Epoch 165/200\n",
            "4/4 [==============================] - 0s 6ms/step - loss: 0.6641 - accuracy: 0.8500\n",
            "Epoch 166/200\n",
            "4/4 [==============================] - 0s 6ms/step - loss: 0.6616 - accuracy: 0.8500\n",
            "Epoch 167/200\n",
            "4/4 [==============================] - 0s 5ms/step - loss: 0.6592 - accuracy: 0.8500\n",
            "Epoch 168/200\n",
            "4/4 [==============================] - 0s 7ms/step - loss: 0.6567 - accuracy: 0.8500\n",
            "Epoch 169/200\n",
            "4/4 [==============================] - 0s 6ms/step - loss: 0.6542 - accuracy: 0.8500\n",
            "Epoch 170/200\n",
            "4/4 [==============================] - 0s 6ms/step - loss: 0.6518 - accuracy: 0.8500\n",
            "Epoch 171/200\n",
            "4/4 [==============================] - 0s 5ms/step - loss: 0.6495 - accuracy: 0.8583\n",
            "Epoch 172/200\n",
            "4/4 [==============================] - 0s 6ms/step - loss: 0.6470 - accuracy: 0.8583\n",
            "Epoch 173/200\n",
            "4/4 [==============================] - 0s 6ms/step - loss: 0.6448 - accuracy: 0.8500\n",
            "Epoch 174/200\n",
            "4/4 [==============================] - 0s 6ms/step - loss: 0.6425 - accuracy: 0.8500\n",
            "Epoch 175/200\n",
            "4/4 [==============================] - 0s 5ms/step - loss: 0.6402 - accuracy: 0.8417\n",
            "Epoch 176/200\n",
            "4/4 [==============================] - 0s 6ms/step - loss: 0.6379 - accuracy: 0.8500\n",
            "Epoch 177/200\n",
            "4/4 [==============================] - 0s 6ms/step - loss: 0.6357 - accuracy: 0.8500\n",
            "Epoch 178/200\n",
            "4/4 [==============================] - 0s 6ms/step - loss: 0.6339 - accuracy: 0.8583\n",
            "Epoch 179/200\n",
            "4/4 [==============================] - 0s 6ms/step - loss: 0.6314 - accuracy: 0.8583\n",
            "Epoch 180/200\n",
            "4/4 [==============================] - 0s 6ms/step - loss: 0.6292 - accuracy: 0.8583\n",
            "Epoch 181/200\n",
            "4/4 [==============================] - 0s 5ms/step - loss: 0.6271 - accuracy: 0.8500\n",
            "Epoch 182/200\n",
            "4/4 [==============================] - 0s 7ms/step - loss: 0.6251 - accuracy: 0.8583\n",
            "Epoch 183/200\n",
            "4/4 [==============================] - 0s 6ms/step - loss: 0.6230 - accuracy: 0.8583\n",
            "Epoch 184/200\n",
            "4/4 [==============================] - 0s 5ms/step - loss: 0.6209 - accuracy: 0.8583\n",
            "Epoch 185/200\n",
            "4/4 [==============================] - 0s 6ms/step - loss: 0.6189 - accuracy: 0.8583\n",
            "Epoch 186/200\n",
            "4/4 [==============================] - 0s 6ms/step - loss: 0.6169 - accuracy: 0.8583\n",
            "Epoch 187/200\n",
            "4/4 [==============================] - 0s 6ms/step - loss: 0.6150 - accuracy: 0.8667\n",
            "Epoch 188/200\n",
            "4/4 [==============================] - 0s 7ms/step - loss: 0.6129 - accuracy: 0.8667\n",
            "Epoch 189/200\n",
            "4/4 [==============================] - 0s 7ms/step - loss: 0.6110 - accuracy: 0.8583\n",
            "Epoch 190/200\n",
            "4/4 [==============================] - 0s 5ms/step - loss: 0.6090 - accuracy: 0.8583\n",
            "Epoch 191/200\n",
            "4/4 [==============================] - 0s 5ms/step - loss: 0.6072 - accuracy: 0.8667\n",
            "Epoch 192/200\n",
            "4/4 [==============================] - 0s 8ms/step - loss: 0.6053 - accuracy: 0.8750\n",
            "Epoch 193/200\n",
            "4/4 [==============================] - 0s 6ms/step - loss: 0.6036 - accuracy: 0.8750\n",
            "Epoch 194/200\n",
            "4/4 [==============================] - 0s 5ms/step - loss: 0.6015 - accuracy: 0.8750\n",
            "Epoch 195/200\n",
            "4/4 [==============================] - 0s 7ms/step - loss: 0.5997 - accuracy: 0.8750\n",
            "Epoch 196/200\n",
            "4/4 [==============================] - 0s 6ms/step - loss: 0.5979 - accuracy: 0.8750\n",
            "Epoch 197/200\n",
            "4/4 [==============================] - 0s 5ms/step - loss: 0.5962 - accuracy: 0.8750\n",
            "Epoch 198/200\n",
            "4/4 [==============================] - 0s 7ms/step - loss: 0.5944 - accuracy: 0.8750\n",
            "Epoch 199/200\n",
            "4/4 [==============================] - 0s 8ms/step - loss: 0.5926 - accuracy: 0.8750\n",
            "Epoch 200/200\n",
            "4/4 [==============================] - 0s 5ms/step - loss: 0.5909 - accuracy: 0.8750\n"
          ]
        },
        {
          "output_type": "execute_result",
          "data": {
            "text/plain": [
              "<keras.callbacks.History at 0x7f48dafd41f0>"
            ]
          },
          "metadata": {},
          "execution_count": 42
        }
      ]
    },
    {
      "cell_type": "code",
      "source": [
        "_,test=model.evaluate(xtest,ytest)"
      ],
      "metadata": {
        "colab": {
          "base_uri": "https://localhost:8080/"
        },
        "id": "KFJdgBZPyqPR",
        "outputId": "24f5e674-df3a-44f6-8d5c-ddcb904ce777"
      },
      "execution_count": 43,
      "outputs": [
        {
          "output_type": "stream",
          "name": "stdout",
          "text": [
            "1/1 [==============================] - 1s 580ms/step - loss: 0.5898 - accuracy: 0.8667\n"
          ]
        }
      ]
    }
  ]
}